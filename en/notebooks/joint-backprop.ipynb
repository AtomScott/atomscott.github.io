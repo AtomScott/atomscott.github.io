{
 "cells": [
  {
   "cell_type": "markdown",
   "metadata": {},
   "source": [
    "# Joint Backprop\n",
    "\n",
    "Notebook that accompanies blog post: [What is \"Joint Back-Propagation\"?]()\n",
    "\n",
    "loosely inspired by \n",
    "- [Understanding Backpropagation Algorithm](https://towardsdatascience.com/understanding-backpropagation-algorithm-7bb3aa2f95fd) by Simeon Kostadinov and\n",
    "- [Deep Neural Networks from scratch in Python](https://towardsdatascience.com/deep-neural-networks-from-scratch-in-python-451f07999373) by Piotr Babel."
   ]
  },
  {
   "cell_type": "code",
   "execution_count": 1,
   "metadata": {},
   "outputs": [],
   "source": [
    "import numpy as np"
   ]
  },
  {
   "cell_type": "markdown",
   "metadata": {},
   "source": [
    "## Data \n",
    "\n",
    "Iris dataset. 3 classes. 4 attributes."
   ]
  },
  {
   "cell_type": "code",
   "execution_count": 2,
   "metadata": {},
   "outputs": [],
   "source": [
    "from sklearn.datasets import load_iris\n",
    "X, Y = load_iris(return_X_y=True)\n",
    "Y = Y.astype('int32')"
   ]
  },
  {
   "cell_type": "code",
   "execution_count": 3,
   "metadata": {},
   "outputs": [
    {
     "data": {
      "text/html": [
       "<div>\n",
       "<style scoped>\n",
       "    .dataframe tbody tr th:only-of-type {\n",
       "        vertical-align: middle;\n",
       "    }\n",
       "\n",
       "    .dataframe tbody tr th {\n",
       "        vertical-align: top;\n",
       "    }\n",
       "\n",
       "    .dataframe thead th {\n",
       "        text-align: right;\n",
       "    }\n",
       "</style>\n",
       "<table border=\"1\" class=\"dataframe\">\n",
       "  <thead>\n",
       "    <tr style=\"text-align: right;\">\n",
       "      <th></th>\n",
       "      <th>sepal length</th>\n",
       "      <th>sepal width</th>\n",
       "      <th>petal length</th>\n",
       "      <th>petal width</th>\n",
       "    </tr>\n",
       "  </thead>\n",
       "  <tbody>\n",
       "    <tr>\n",
       "      <th>count</th>\n",
       "      <td>150.000000</td>\n",
       "      <td>150.000000</td>\n",
       "      <td>150.000000</td>\n",
       "      <td>150.000000</td>\n",
       "    </tr>\n",
       "    <tr>\n",
       "      <th>mean</th>\n",
       "      <td>5.843333</td>\n",
       "      <td>3.057333</td>\n",
       "      <td>3.758000</td>\n",
       "      <td>1.199333</td>\n",
       "    </tr>\n",
       "    <tr>\n",
       "      <th>std</th>\n",
       "      <td>0.828066</td>\n",
       "      <td>0.435866</td>\n",
       "      <td>1.765298</td>\n",
       "      <td>0.762238</td>\n",
       "    </tr>\n",
       "    <tr>\n",
       "      <th>min</th>\n",
       "      <td>4.300000</td>\n",
       "      <td>2.000000</td>\n",
       "      <td>1.000000</td>\n",
       "      <td>0.100000</td>\n",
       "    </tr>\n",
       "    <tr>\n",
       "      <th>25%</th>\n",
       "      <td>5.100000</td>\n",
       "      <td>2.800000</td>\n",
       "      <td>1.600000</td>\n",
       "      <td>0.300000</td>\n",
       "    </tr>\n",
       "    <tr>\n",
       "      <th>50%</th>\n",
       "      <td>5.800000</td>\n",
       "      <td>3.000000</td>\n",
       "      <td>4.350000</td>\n",
       "      <td>1.300000</td>\n",
       "    </tr>\n",
       "    <tr>\n",
       "      <th>75%</th>\n",
       "      <td>6.400000</td>\n",
       "      <td>3.300000</td>\n",
       "      <td>5.100000</td>\n",
       "      <td>1.800000</td>\n",
       "    </tr>\n",
       "    <tr>\n",
       "      <th>max</th>\n",
       "      <td>7.900000</td>\n",
       "      <td>4.400000</td>\n",
       "      <td>6.900000</td>\n",
       "      <td>2.500000</td>\n",
       "    </tr>\n",
       "  </tbody>\n",
       "</table>\n",
       "</div>"
      ],
      "text/plain": [
       "       sepal length  sepal width  petal length  petal width\n",
       "count    150.000000   150.000000    150.000000   150.000000\n",
       "mean       5.843333     3.057333      3.758000     1.199333\n",
       "std        0.828066     0.435866      1.765298     0.762238\n",
       "min        4.300000     2.000000      1.000000     0.100000\n",
       "25%        5.100000     2.800000      1.600000     0.300000\n",
       "50%        5.800000     3.000000      4.350000     1.300000\n",
       "75%        6.400000     3.300000      5.100000     1.800000\n",
       "max        7.900000     4.400000      6.900000     2.500000"
      ]
     },
     "execution_count": 3,
     "metadata": {},
     "output_type": "execute_result"
    }
   ],
   "source": [
    "import pandas as pd\n",
    "pd.DataFrame(X, columns=['sepal length', 'sepal width', 'petal length', 'petal width']).describe()"
   ]
  },
  {
   "cell_type": "markdown",
   "metadata": {},
   "source": [
    "## Network\n",
    "\n",
    "3 Layers, neurons are 4-4-3 for input-hiddin-output respectively"
   ]
  },
  {
   "cell_type": "code",
   "execution_count": 104,
   "metadata": {},
   "outputs": [],
   "source": [
    "import torch \n",
    "\n",
    "nn_architecture = [\n",
    "    {\"layer_size\": 4, \"activation\": \"none\"},\n",
    "    {\"layer_size\": 3, \"activation\": \"sigmoid\"},\n",
    "    {\"layer_size\": 3, \"activation\": \"sigmoid\"}\n",
    "]\n",
    "\n",
    "def init_params(nn_architecture, seed=0):\n",
    "    params = {}\n",
    "    for l in range(1, len(nn_architecture)):\n",
    "        \n",
    "        params['W'+str(l)] = torch.tensor(np.random.randn(\n",
    "            nn_architecture[l][\"layer_size\"],\n",
    "            nn_architecture[l-1][\"layer_size\"]),\n",
    "            requires_grad=True)\n",
    "        \n",
    "        params['b'+str(l)] = torch.tensor(np.zeros((\n",
    "            nn_architecture[l][\"layer_size\"], 1)),\n",
    "            requires_grad=True)\n",
    "        \n",
    "    return params\n",
    "\n",
    "network = {\n",
    "    'architecture': nn_architecture,\n",
    "    'parameters': init_params(nn_architecture)\n",
    "} "
   ]
  },
  {
   "cell_type": "markdown",
   "metadata": {},
   "source": [
    "## Defining model forward\n",
    "\n",
    "only using chainer for autograd"
   ]
  },
  {
   "cell_type": "code",
   "execution_count": 127,
   "metadata": {},
   "outputs": [
    {
     "name": "stdout",
     "output_type": "stream",
     "text": [
      "prediction: 2 ground truth: 0 loss: tensor([0.6397], dtype=torch.float64, grad_fn=<MeanBackward1>)\n"
     ]
    }
   ],
   "source": [
    "import math\n",
    "\n",
    "def forward(x, nn):    \n",
    "    A = x\n",
    "    for l in range(1, len(nn['architecture'])):\n",
    "        W = nn['parameters']['W'+str(l)]\n",
    "        b = nn['parameters']['b'+str(l)]\n",
    "        a = nn['architecture'][l]['activation']\n",
    "        \n",
    "        Z = W @ A + b\n",
    "\n",
    "        if a == 'relu':\n",
    "            A = relu(Z)\n",
    "        if a == 'sigmoid':\n",
    "            A = sigmoid(Z)\n",
    "        else:\n",
    "            raise \"Not implemented activation: \" + a\n",
    "            \n",
    "    return A\n",
    "        \n",
    "# activation function\n",
    "def relu(Z):\n",
    "    return np.maximum(0,Z)\n",
    "\n",
    "def sigmoid(Z):\n",
    "    return 1/(1 + math.e**(-Z))\n",
    "\n",
    "# cost function\n",
    "def mse_loss(y_pred, y_gt):\n",
    "    return ((y_pred - y_gt)**2).mean(axis=0)\n",
    "\n",
    "# tools to handle encodings\n",
    "def onehot_encode(i, length):\n",
    "    vec = torch.zeros(length, 1)\n",
    "    vec[i] = 1.\n",
    "    return vec\n",
    "\n",
    "def onehot_decode(x):\n",
    "    return np.argmax(x)\n",
    "\n",
    "# x[0:1], retains the dims of X. so x is 2D\n",
    "x = torch.tensor(X[0:1].T, requires_grad=True)# x.shape = (4, 1)\n",
    "\n",
    "classes = 3\n",
    "y_gt = onehot_encode(Y[0], classes)\n",
    "\n",
    "y_pred = forward(x, network)\n",
    "loss = mse_loss(y_pred, y_gt)\n",
    "\n",
    "print(f'prediction: {np.argmax(y_pred.detach())} ground truth: {np.argmax(y_gt)} loss: {loss}')"
   ]
  },
  {
   "cell_type": "markdown",
   "metadata": {},
   "source": [
    "## Model backward and parameter update"
   ]
  },
  {
   "cell_type": "code",
   "execution_count": 112,
   "metadata": {},
   "outputs": [
    {
     "name": "stderr",
     "output_type": "stream",
     "text": [
      "/home/atom/anaconda3/lib/python3.7/site-packages/ipykernel_launcher.py:9: UserWarning: To copy construct from a tensor, it is recommended to use sourceTensor.clone().detach() or sourceTensor.clone().detach().requires_grad_(True), rather than torch.tensor(sourceTensor).\n",
      "  if __name__ == '__main__':\n",
      "/home/atom/anaconda3/lib/python3.7/site-packages/ipykernel_launcher.py:10: UserWarning: To copy construct from a tensor, it is recommended to use sourceTensor.clone().detach() or sourceTensor.clone().detach().requires_grad_(True), rather than torch.tensor(sourceTensor).\n",
      "  # Remove the CWD from sys.path while we load stuff.\n"
     ]
    }
   ],
   "source": [
    "def backprop(network, loss, lr):\n",
    "    \n",
    "    # computes the gradients\n",
    "    loss.backward()\n",
    "    \n",
    "    # Adjusts the parameters\n",
    "    with torch.no_grad():\n",
    "        for l in range(1, len(network['architecture'])):\n",
    "            network['parameters']['W'+str(l)] -= torch.tensor(network['parameters']['W'+str(l)].grad * lr)\n",
    "            network['parameters']['b'+str(l)] -= torch.tensor(network['parameters']['b'+str(l)].grad * lr)\n",
    "            network['parameters']['W'+str(l)].grad.data.zero_()\n",
    "            network['parameters']['b'+str(l)].grad.data.zero_()\n",
    "    return network\n",
    "\n",
    "network = backprop(network, loss, lr=0.01)"
   ]
  },
  {
   "cell_type": "markdown",
   "metadata": {},
   "source": [
    "## putting everything together"
   ]
  },
  {
   "cell_type": "code",
   "execution_count": 144,
   "metadata": {},
   "outputs": [
    {
     "name": "stderr",
     "output_type": "stream",
     "text": [
      "/home/atom/anaconda3/lib/python3.7/site-packages/ipykernel_launcher.py:9: UserWarning: To copy construct from a tensor, it is recommended to use sourceTensor.clone().detach() or sourceTensor.clone().detach().requires_grad_(True), rather than torch.tensor(sourceTensor).\n",
      "  if __name__ == '__main__':\n",
      "/home/atom/anaconda3/lib/python3.7/site-packages/ipykernel_launcher.py:10: UserWarning: To copy construct from a tensor, it is recommended to use sourceTensor.clone().detach() or sourceTensor.clone().detach().requires_grad_(True), rather than torch.tensor(sourceTensor).\n",
      "  # Remove the CWD from sys.path while we load stuff.\n"
     ]
    },
    {
     "name": "stdout",
     "output_type": "stream",
     "text": [
      "0 0.2213187836281795 0.0033986568450927734\n",
      "1000 0.25154701875375496 0.806342601776123\n",
      "2000 0.24401631016959208 0.8147013187408447\n",
      "3000 0.2319438659619665 0.7992770671844482\n",
      "4000 0.2227140771683236 0.8050777912139893\n",
      "5000 0.21525468398725067 0.7959699630737305\n",
      "6000 0.20859858090561714 0.7929208278656006\n",
      "7000 0.20275388049553839 0.784705638885498\n",
      "8000 0.19707828700368393 0.8011758327484131\n",
      "9000 0.19168958727396526 0.8210346698760986\n"
     ]
    },
    {
     "data": {
      "image/png": "[encoded data removed]",
      "text/plain": [
       "<Figure size 432x288 with 1 Axes>"
      ]
     },
     "metadata": {
      "needs_background": "light"
     },
     "output_type": "display_data"
    }
   ],
   "source": [
    "import matplotlib.pyplot as plt, time\n",
    "# Define the network structure\n",
    "nn_architecture = [\n",
    "    {\"layer_size\": 4, \"activation\": \"none\"},\n",
    "    {\"layer_size\": 3, \"activation\": \"sigmoid\"},\n",
    "    {\"layer_size\": 3, \"activation\": \"sigmoid\"}\n",
    "]\n",
    "network = {\n",
    "    'architecture': nn_architecture,\n",
    "    'parameters': init_params(nn_architecture)\n",
    "} \n",
    "\n",
    "iterations = 10000\n",
    "classes = 3\n",
    "losses = []\n",
    "\n",
    "# Training loop\n",
    "start = time.time()\n",
    "for iteration in range(0, iterations):\n",
    "    i = np.random.randint(0, len(X))\n",
    "    \n",
    "    # get data\n",
    "    x = torch.tensor(X[i:i+1].T)\n",
    "    y_gt = onehot_encode(Y[i], 3)\n",
    "\n",
    "    # forward model\n",
    "    y_pred = forward(x, network)\n",
    "\n",
    "    # calculate loss\n",
    "    loss = mse_loss(y_pred, y_gt)\n",
    "\n",
    "    # update parameters\n",
    "    network = backprop(network, loss, lr=0.01)\n",
    "\n",
    "    losses.append(loss.detach())\n",
    "    \n",
    "    if iteration%1000 == 0:\n",
    "        t = time.time() - start\n",
    "        start = time.time()\n",
    "        \n",
    "        print(iteration, np.mean(losses), t)\n",
    "    \n",
    "N = 50\n",
    "plt.plot(np.convolve(losses, np.ones((N,))/N, mode='valid'))\n",
    "plt.show()"
   ]
  },
  {
   "cell_type": "code",
   "execution_count": null,
   "metadata": {},
   "outputs": [],
   "source": []
  },
  {
   "cell_type": "raw",
   "metadata": {},
   "source": []
  },
  {
   "cell_type": "code",
   "execution_count": null,
   "metadata": {},
   "outputs": [],
   "source": []
  },
  {
   "cell_type": "code",
   "execution_count": null,
   "metadata": {},
   "outputs": [],
   "source": []
  }
 ],
 "metadata": {
  "file_extension": ".py",
  "kernelspec": {
   "display_name": "Python 3",
   "language": "python",
   "name": "python3"
  },
  "language_info": {
   "codemirror_mode": {
    "name": "ipython",
    "version": 3
   },
   "file_extension": ".py",
   "mimetype": "text/x-python",
   "name": "python",
   "nbconvert_exporter": "python",
   "pygments_lexer": "ipython3",
   "version": "3.7.3"
  },
  "mimetype": "text/x-python",
  "name": "python",
  "npconvert_exporter": "python",
  "pygments_lexer": "ipython3",
  "version": 3
 },
 "nbformat": 4,
 "nbformat_minor": 4
}
